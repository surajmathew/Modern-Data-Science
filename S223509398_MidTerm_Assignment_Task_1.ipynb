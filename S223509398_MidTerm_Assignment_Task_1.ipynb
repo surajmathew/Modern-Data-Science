{
  "cells": [
    {
      "cell_type": "markdown",
      "metadata": {
        "id": "6B5YYueA5jG_"
      },
      "source": [
        "# SIT742: Modern Data Science - Task 1\n",
        "\n",
        "- Student ID - S223509398\n",
        "\n",
        "- Student Name - Suraj Mathew Thomas\n",
        "\n",
        "- Attempted High Distinction Question - Yes"
      ]
    },
    {
      "cell_type": "markdown",
      "metadata": {
        "id": "6p5pOyBZ5LZ3"
      },
      "source": [
        "#Question 1.1\n",
        "\n",
        "- ages = [5,31,43,48,50,41,7,11,15,39,80,82,32,2,8,6,25,36,27,61,31] and the length of the list is 21\n",
        "\n",
        "- find the average value of age (don’t use numpy and do not import other module or library, do not\n",
        "directly use math,statistics module functions except the function sum);\n",
        "\n",
        "- find the standard deviation from the age list (don’t use numpy and do not import other module or\n",
        "library, do not directly use math, statistics module functions except the function sum)\n",
        "\n",
        "- Hints: You could firstly create a function for calculating the mean, then create the second function for calculate the sum of square deviations of sequence data, then create the thrid one for standard deviation. Check for the steps on how to calculate the standard deviation from\n",
        "https://www.mathsisfun.com/data/standard-deviation-formulas.html\n",
        "\n",
        "- Run your defined function(s) to calculate the average value of age and standard deviation of the\n",
        "age from given list"
      ]
    },
    {
      "cell_type": "markdown",
      "source": [
        "## Answer 1.1\n",
        "\n",
        "\n",
        "\n",
        "\n",
        "\n",
        "\n"
      ],
      "metadata": {
        "id": "nYy-dAniFwZb"
      }
    },
    {
      "cell_type": "code",
      "execution_count": null,
      "metadata": {
        "id": "tIk0dFHi5M24"
      },
      "outputs": [],
      "source": [
        "#Function for Calculating the Average/Mean of a list\n",
        "def calc_mean(num_list):\n",
        "  v_num = 0\n",
        "  for x in num_list: #Counter variable to run through the elements in the ages list given\n",
        "    v_num = v_num + x #Increamenting with cummulative addition\n",
        "  v_avg = v_num/len(num_list) #Using the lenght function instead of hardcoding 21 to make the code more dynamic\n",
        "  return v_avg\n",
        "\n",
        "#Function for Calculating the Standard Deviation of a list\n",
        "def calc_stdev(num_list):\n",
        "  v_mean = sum(num_list) / len(num_list)\n",
        "  v_variance = sum([((z - v_mean) ** 2) for z in num_list]) / len(num_list)\n",
        "  v_stdev = v_variance ** 0.5\n",
        "  return v_stdev"
      ]
    },
    {
      "cell_type": "code",
      "execution_count": null,
      "metadata": {
        "colab": {
          "base_uri": "https://localhost:8080/"
        },
        "id": "Af1a83Ur5NGk",
        "outputId": "e55f9394-c56b-469b-99cf-4a0cad735f70"
      },
      "outputs": [
        {
          "name": "stdout",
          "output_type": "stream",
          "text": [
            "The average of the given list is 32.38\n",
            "The standard deviation of the given list is 22.68\n"
          ]
        }
      ],
      "source": [
        "#Main Code\n",
        "ages = [5,31,43,48,50,41,7,11,15,39,80,82,32,2,8,6,25,36,27,61,31]\n",
        "find_mean = calc_mean(ages) #Calling the average function\n",
        "find_stdev = calc_stdev(ages) #Calling the standard deviation fuction\n",
        "print(\"The average of the given list is\", round(find_mean, 2))\n",
        "print(\"The standard deviation of the given list is\", round(find_stdev,2))"
      ]
    },
    {
      "cell_type": "markdown",
      "metadata": {
        "id": "RA7Y4KiHEwWJ"
      },
      "source": [
        "# Question 1.2\n",
        "\n",
        "Writing the code or function to achieve below requirements:\n",
        "\n",
        "- You are given the heads of two sorted linked lists list1 = [1,2,4] and list2 = [1,3,4]. Merge\n",
        "the two lists in a one sorted list which is [1,1,2,3,4,4]. (don’t use numpy or import other\n",
        "module / library);\n",
        "\n",
        "- You are given the heads of two sorted linked lists list1 = [1,2,4] and list2 = [1,3,4]. Merge\n",
        "the two lists in a one sorted list without duplicated elements which is [1,2,3,4]. (don’t use\n",
        "numpy or import other module / library);"
      ]
    },
    {
      "cell_type": "markdown",
      "source": [
        "## Answer 1.2"
      ],
      "metadata": {
        "id": "uz5JFb6OGWDT"
      }
    },
    {
      "cell_type": "code",
      "execution_count": null,
      "metadata": {
        "colab": {
          "base_uri": "https://localhost:8080/"
        },
        "id": "F7GkmKcT5NZi",
        "outputId": "b1fe942c-ba26-4413-ffa0-3551b320be81"
      },
      "outputs": [
        {
          "output_type": "stream",
          "name": "stdout",
          "text": [
            "The given original list 1 is : [1, 2, 4]\n",
            "The given original list 2 is : [1, 3, 4]\n",
            "The given original list 1 is of length : 3\n",
            "The given original list 2 is of length : 3\n",
            "The combined sorted list is : [1, 1, 2, 3, 4, 4]\n"
          ]
        }
      ],
      "source": [
        "#Main Code\n",
        "# List Initialization\n",
        "v_list1 = [1, 2, 4]\n",
        "v_list2 = [1, 3, 4]\n",
        "\n",
        "# Printing the Original initialized list\n",
        "print(\"The given original list 1 is : \" + str(v_list1))\n",
        "print(\"The given original list 2 is : \" + str(v_list2))\n",
        "\n",
        "# Getting the length of the array\n",
        "v_list1_len = len(v_list1)\n",
        "v_list2_len = len(v_list2)\n",
        "\n",
        "# Printing the length of the lists\n",
        "print(\"The given original list 1 is of length : \" + str(v_list1_len))\n",
        "print(\"The given original list 2 is of length : \" + str(v_list2_len))\n",
        "\n",
        "v_out = []\n",
        "i, j = 0, 0\n",
        "\n",
        "while i < v_list1_len and j < v_list2_len:\n",
        "    if v_list1[i] < v_list2[j]:\n",
        "      v_out.append(v_list1[i])\n",
        "      i += 1\n",
        "    else:\n",
        "      v_out.append(v_list2[j])\n",
        "      j += 1\n",
        "\n",
        "v_out = v_out + v_list1[i:] + v_list2[j:]\n",
        "\n",
        "# printing result\n",
        "print(\"The combined sorted list is : \" + str(v_out))"
      ]
    },
    {
      "cell_type": "code",
      "execution_count": null,
      "metadata": {
        "colab": {
          "base_uri": "https://localhost:8080/"
        },
        "id": "5DCxJ4fQeoaX",
        "outputId": "f923d7c4-b3b0-44e5-92ad-4aa81cebe1ab"
      },
      "outputs": [
        {
          "name": "stdout",
          "output_type": "stream",
          "text": [
            "The given original list 1 is : [1, 2, 4]\n",
            "The given original list 2 is : [1, 3, 4]\n",
            "The given original list 1 is of length : 3\n",
            "The given original list 2 is of length : 3\n",
            "The combined sorted list is : [1, 2, 3, 4]\n"
          ]
        }
      ],
      "source": [
        "#Main Code\n",
        "# List Initialization\n",
        "v_list1 = [1, 2, 4]\n",
        "v_list2 = [1, 3, 4]\n",
        "\n",
        "# Printing the Original initialized list\n",
        "print(\"The given original list 1 is : \" + str(v_list1))\n",
        "print(\"The given original list 2 is : \" + str(v_list2))\n",
        "\n",
        "# Getting the length of the array\n",
        "v_list1_len = len(v_list1)\n",
        "v_list2_len = len(v_list2)\n",
        "\n",
        "# Printing the length of the lists\n",
        "print(\"The given original list 1 is of length : \" + str(v_list1_len))\n",
        "print(\"The given original list 2 is of length : \" + str(v_list2_len))\n",
        "\n",
        "v_out = []\n",
        "i, j = 0, 0\n",
        "\n",
        "while i < v_list1_len and j < v_list2_len:\n",
        "    if v_list1[i] < v_list2[j]:\n",
        "      v_out.append(v_list1[i])\n",
        "      i += 1\n",
        "    elif v_list1[i] == v_list2[j]:\n",
        "      i += 1\n",
        "    else:\n",
        "      v_out.append(v_list2[j])\n",
        "      j += 1\n",
        "v_out = v_out + v_list1[i:] + v_list2[j:]\n",
        "\n",
        "# printing result\n",
        "print(\"The combined sorted list is : \" + str(v_out))"
      ]
    },
    {
      "cell_type": "markdown",
      "metadata": {
        "id": "4YXkFhCUoUdE"
      },
      "source": [
        "# Question 1.3\n",
        "\n",
        "You are required to design the code (by writing code or function) could achieve the mobile number searching mechanism which could allow you to:\n",
        "\n",
        "- for Four mobile numbers in a list [’10009091003’,’10008293312’,’10007838282’, ‘130001002’]\n",
        "- print “Yes” when last digit in mobile number is not 3\n",
        "- print “No” when last digit in mobile number is 3\n",
        "- print “Not Valid” when length of the mobile number is small than 11 digits\n",
        "\n",
        "(Optional: You could import re to use the regex function)"
      ]
    },
    {
      "cell_type": "markdown",
      "source": [
        "## Answer 1.3"
      ],
      "metadata": {
        "id": "VrBN8yQJGehf"
      }
    },
    {
      "cell_type": "code",
      "execution_count": null,
      "metadata": {
        "id": "anUi_aD9oulV",
        "colab": {
          "base_uri": "https://localhost:8080/"
        },
        "outputId": "ddfa2cac-f6ea-4050-abde-b71fca1a9188"
      },
      "outputs": [
        {
          "output_type": "stream",
          "name": "stdout",
          "text": [
            "10009091003 is an invalid mobile number\n",
            "10008293312 is an invalid mobile number\n",
            "10007838282 is an invalid mobile number\n",
            "130001002 is an invalid mobile number\n",
            "No - The last digit of 10009091003 is 3\n",
            "Yes - The last digit of 10008293312 is not 3\n",
            "Yes - The last digit of 10007838282 is not 3\n",
            "Yes - The last digit of 130001002 is not 3\n"
          ]
        }
      ],
      "source": [
        "import re\n",
        "\n",
        "#Function to check the validity of the mobile number\n",
        "def fn_validate_mobile(mobile_number):\n",
        "  pattern = re.compile(r'^\\d{10}$')\n",
        "  return bool(pattern.match(mobile_number))\n",
        "\n",
        "#Function to check the last digit of the mobile number\n",
        "def extract_last_digit(mobile_number):\n",
        "  last_digit = int(mobile_number[-1])\n",
        "  if last_digit == 3:\n",
        "    print(\"No - The last digit of\",mobile_number,\"is 3\")\n",
        "  else:\n",
        "    print(\"Yes - The last digit of\",mobile_number,\"is not 3\")\n",
        "\n",
        "#Main Program\n",
        "v_mobile_list = ['10009091003','10008293312','10007838282','130001002']\n",
        "#Calling the mobile number validity function\n",
        "for x in v_mobile_list:\n",
        "  if fn_validate_mobile(x):\n",
        "    print(f\"{x} is a valid mobile number\")\n",
        "  else:\n",
        "    print(f\"{x} is an invalid mobile number\")\n",
        "\n",
        "#Calling the last digit function\n",
        "for y in v_mobile_list:\n",
        "  extract_last_digit(y)"
      ]
    },
    {
      "cell_type": "code",
      "source": [
        "#Another program that combines all the 3 conditions mentioned where only if the number is valid will it check whether the last digit is ending with 3 or not. It also takes input of the mobile numbers from the user\n",
        "import re\n",
        "\n",
        "#Function to check the validity of the mobile number\n",
        "def fn_validate_mobile(mobile_number):\n",
        "  pattern = re.compile(r'^\\d{10}$')\n",
        "  return bool(pattern.match(mobile_number))\n",
        "  last_digit = int(mobile_number[-1])\n",
        "  if last_digit == 3:\n",
        "    print(\"No - The last digit of\",mobile_number,\"is 3\")\n",
        "  else:\n",
        "    print(\"Yes - The last digit of\",mobile_number,\"is not 3\")\n",
        "\n",
        "#Function to check the last digit of the mobile number\n",
        "def extract_last_digit(mobile_number):\n",
        "  last_digit = int(mobile_number[-1])\n",
        "  if last_digit == 3:\n",
        "    print(\"No - The last digit of\",mobile_number,\"is 3\")\n",
        "  else:\n",
        "    print(\"Yes - The last digit of\",mobile_number,\"is not 3\")\n",
        "\n",
        "#Main Program\n",
        "# creating an empty list\n",
        "lv_mobile_list = []\n",
        "\n",
        "# number of elements as input\n",
        "n = int(input(\"Enter the number of mobile numbers you want to enter : \"))\n",
        "\n",
        "# iterating till the range\n",
        "for i in range(0, n):\n",
        "    ele = str(input())\n",
        "    # adding the element\n",
        "    lv_mobile_list.append(ele)\n",
        "\n",
        "print(\"The entered mobile numbers are:\",lv_mobile_list)\n",
        "\n",
        "#Calling the mobile number validity function\n",
        "for x in lv_mobile_list:\n",
        "  if fn_validate_mobile(x):\n",
        "    print(f\"{x} is a valid mobile number\")\n",
        "    #Calling the last digit function\n",
        "    extract_last_digit(x)\n",
        "  else:\n",
        "    print(f\"{x} is an invalid mobile number\")"
      ],
      "metadata": {
        "colab": {
          "base_uri": "https://localhost:8080/"
        },
        "id": "Q7Pfv48yzfMh",
        "outputId": "77df3e23-8d63-4f3e-da87-1a5973fae78a"
      },
      "execution_count": null,
      "outputs": [
        {
          "output_type": "stream",
          "name": "stdout",
          "text": [
            "Enter the number of mobile numbers you want to enter : 3\n",
            "7458496\n",
            "9840665120\n",
            "9840665123\n",
            "The entered mobile numbers are: ['7458496', '9840665120', '9840665123']\n",
            "7458496 is an invalid mobile number\n",
            "9840665120 is a valid mobile number\n",
            "Yes - The last digit of 9840665120 is not 3\n",
            "9840665123 is a valid mobile number\n",
            "No - The last digit of 9840665123 is 3\n"
          ]
        }
      ]
    },
    {
      "cell_type": "markdown",
      "source": [
        "# Question 1.4\n",
        "\n",
        "You are required to use For statement to print out below * mark in 5 lines (must use control flow\n",
        "such as For statement).\n",
        "\n",
        "\"*\"\n",
        "\n",
        "\"**\"\n",
        "\n",
        "\"***\"\n",
        "\n",
        "\"****\"\n",
        "\n",
        "\"*****\"\n",
        "\n",
        "Example only (you could use others like While)\n",
        "For i in range ( 5 ) :\n",
        "\n",
        "continue to write your code in below#\n",
        "Please do not directly print it out, you must finish the question with control flow syntax.\n"
      ],
      "metadata": {
        "id": "YNxZ39KT_sCx"
      }
    },
    {
      "cell_type": "markdown",
      "source": [
        "## Answer 1.4"
      ],
      "metadata": {
        "id": "KSEM7YlhGmJo"
      }
    },
    {
      "cell_type": "markdown",
      "source": [
        "### Method I"
      ],
      "metadata": {
        "id": "1b1doZNOR5Ek"
      }
    },
    {
      "cell_type": "code",
      "source": [
        "#Initializing the counter as there are five lines of asterix that needs to be printed\n",
        "counter = 5\n",
        "#Using the For Loop Control Syntax\n",
        "for i in range(1,counter+1):\n",
        "    for j in range(1, i+1):\n",
        "        print('*', end =\" \")\n",
        "    print(\"\")"
      ],
      "metadata": {
        "colab": {
          "base_uri": "https://localhost:8080/"
        },
        "id": "xziiTgIhjA0B",
        "outputId": "cb25649c-7cad-4be4-c90f-9796617936c3"
      },
      "execution_count": null,
      "outputs": [
        {
          "output_type": "stream",
          "name": "stdout",
          "text": [
            "* \n",
            "* * \n",
            "* * * \n",
            "* * * * \n",
            "* * * * * \n"
          ]
        }
      ]
    },
    {
      "cell_type": "markdown",
      "source": [
        "### Method II"
      ],
      "metadata": {
        "id": "teusW2sCR8ij"
      }
    },
    {
      "cell_type": "code",
      "source": [
        "counter = 5\n",
        "i=1\n",
        "#Using the While Loop Control Syntax\n",
        "while counter>0: # checking if the number is positive\n",
        "    while i<=counter: # outer loop checks for the row\n",
        "        j=1\n",
        "        while (j<=i): #inner loop checks for the columns\n",
        "            print(\"*\", end = \" \")\n",
        "            j+=1\n",
        "        print(\"\") # to print the next line\n",
        "        i+=1\n",
        "    break #to break out of the loop"
      ],
      "metadata": {
        "colab": {
          "base_uri": "https://localhost:8080/"
        },
        "id": "VIEy2CsePSMv",
        "outputId": "e799464d-924b-40c4-b9da-6ee3a39ef63e"
      },
      "execution_count": null,
      "outputs": [
        {
          "output_type": "stream",
          "name": "stdout",
          "text": [
            "* \n",
            "* * \n",
            "* * * \n",
            "* * * * \n",
            "* * * * * \n"
          ]
        }
      ]
    },
    {
      "cell_type": "markdown",
      "source": [
        "# Question 1.5\n",
        "\n",
        "Given list A = [1,2,3,[4,5,[’x1’,6,[1,2,3,’sig742’]]]],\n",
        "\n",
        "writing a function to print 1,2,3,4,5,x1,6,1,2,3,sig742\n",
        "\n",
        "(must define a function to run, the input for function is list A, run the function and print the results\n",
        "line by line or in one line)"
      ],
      "metadata": {
        "id": "C4I6-fUh70Jy"
      }
    },
    {
      "cell_type": "markdown",
      "source": [
        "## Answer 1.5"
      ],
      "metadata": {
        "id": "NulKE-yTGphp"
      }
    },
    {
      "cell_type": "code",
      "source": [
        "def flatten(A):\n",
        "    v_out_list = []\n",
        "    for i in A:\n",
        "        if isinstance(i,list): v_out_list.extend(flatten(i))\n",
        "        else: v_out_list.append(i)\n",
        "    return v_out_list"
      ],
      "metadata": {
        "id": "RdSAqlNC7nda"
      },
      "execution_count": null,
      "outputs": []
    },
    {
      "cell_type": "code",
      "source": [
        "A = [1,2,3,[4,5,[\"x1\",6,[1,2,3,\"sig742\"]]]] #This is a nested list. Elements are both of numeric and string variants\n",
        "#Calling the function that will extract a single list from the nested list\n",
        "flatten(A)"
      ],
      "metadata": {
        "colab": {
          "base_uri": "https://localhost:8080/"
        },
        "id": "l2YyR1GX_9Wf",
        "outputId": "94e512a0-9efe-4f67-cdbe-c76df96895a7"
      },
      "execution_count": null,
      "outputs": [
        {
          "output_type": "execute_result",
          "data": {
            "text/plain": [
              "[1, 2, 3, 4, 5, 'x1', 6, 1, 2, 3, 'sig742']"
            ]
          },
          "metadata": {},
          "execution_count": 14
        }
      ]
    },
    {
      "cell_type": "markdown",
      "source": [
        "# Question 1.6\n",
        "\n",
        "Write the code or function to achieve:\n",
        "\n",
        "Sort the dictionary list=[{′name′: a,′ age′: 55}, {′name′: b,′ age′: 30}, {′name′: c,′ age′: 50}]\n",
        "\n",
        "with the value of age (from smallest to largest, you could use default sorted function)."
      ],
      "metadata": {
        "id": "ZCVs-mYbMICE"
      }
    },
    {
      "cell_type": "markdown",
      "source": [
        "## Answer 1.6"
      ],
      "metadata": {
        "id": "Vhvgjw5qHD29"
      }
    },
    {
      "cell_type": "code",
      "source": [
        "v_list_dict = [{'name':'a', 'age':55}, {'name':'b', 'age':30}, {'name':'c', 'age':50} ] #declaring the dictionary list in the order that is given in the question\n",
        "sortedlist = sorted(v_list_dict , key=lambda elem: \"%02d %s\" % (elem['age'], elem['name'])) #What this does it sorts by age first and then by name. This will work if a mapping has the same age but different names. That time it will sort by alphabetical order\n",
        "print(sortedlist) #printing the list that has been sorted in the ascending order by age first and then by name"
      ],
      "metadata": {
        "colab": {
          "base_uri": "https://localhost:8080/"
        },
        "id": "0faGXkb8MHVx",
        "outputId": "a13d150e-fa19-482d-824c-512a716f7a18"
      },
      "execution_count": null,
      "outputs": [
        {
          "output_type": "stream",
          "name": "stdout",
          "text": [
            "[{'name': 'b', 'age': 30}, {'name': 'c', 'age': 50}, {'name': 'a', 'age': 55}]\n"
          ]
        }
      ]
    },
    {
      "cell_type": "markdown",
      "source": [
        "# Question 1.7\n",
        "\n",
        "Define two functions to sum your student ID (all numeric digits in the ID) and then find out if the\n",
        "result is an odd number or even number there are two functions for you to implement (you\n",
        "must create the below two functions):\n",
        "• one is sum_digits,\n",
        "• another one is check_studentid.\n",
        "your code will have two functions as below:\n",
        "def sum_digits ( studentid ):\n",
        "#write your code here\n",
        "return sum_digits_result\n",
        "def check_studentid (sum_digits_result) :\n",
        "#write your code here\n",
        "Run your functions to find out the result and the result must illustrate whether the result from\n",
        "function check_studentid is odd or even number (this is critical to be used for Question 2).\n"
      ],
      "metadata": {
        "id": "Me0Yh8W3PS3n"
      }
    },
    {
      "cell_type": "markdown",
      "source": [
        "## Answer 1.7"
      ],
      "metadata": {
        "id": "KgyRsPymHG1t"
      }
    },
    {
      "cell_type": "code",
      "source": [
        "#Second Funtion which adds up the digits\n",
        "def sum_digits(id):\n",
        "    z=0\n",
        "    while id:\n",
        "        z, id = z + id % 10, id // 10 #Floor operation Division. This rounds to the nearest - smallest whole number. i.e left of the number line\n",
        "        #print(z)\n",
        "        #print(id)\n",
        "    return z\n",
        "\n",
        "# First Function\n",
        "def check_studentid(studentid):\n",
        "    #Calling the second function where the return value of the function is stored in the variable x and used further\n",
        "    x = sum_digits(studentid)\n",
        "    print(x) #The sum of my student id is returning as an odd number.\n",
        "    if x % 2 == 0:\n",
        "        print ('version II')\n",
        "    else :\n",
        "        print('version I')\n",
        "\n",
        "#Main - Calling the first function which in turn will call the second function that is inside the first function\n",
        "check_studentid (223509398)"
      ],
      "metadata": {
        "colab": {
          "base_uri": "https://localhost:8080/"
        },
        "id": "WBzyQAXzSjYs",
        "outputId": "25f502b6-755e-4347-f25a-798dd5f5f0df"
      },
      "execution_count": null,
      "outputs": [
        {
          "output_type": "stream",
          "name": "stdout",
          "text": [
            "41\n",
            "version I\n"
          ]
        }
      ]
    },
    {
      "cell_type": "markdown",
      "source": [
        "# Question 1.8\n",
        "\n",
        "Given an array of integers [1, 2, 6, 8], return indices of the two numbers such that they add upto 10.You may assume that each input would have exactly one solution.\n",
        "\n",
        "Explanation\n",
        "\n",
        "Given nums = [1, 2, 6, 8], target = 10,\n",
        "\n",
        "Because nums[1] + nums[3] = 2 + 8 = 10,\n",
        "\n",
        "return [1, 3].\n",
        "\n",
        "Your code should have a defined function which could take the array nums= [1, 2, 6, 8] as input and run the function to return a list [1,3] (only [1,3])"
      ],
      "metadata": {
        "id": "KAEMIGN0uz2d"
      }
    },
    {
      "cell_type": "markdown",
      "source": [
        "## Answer 1.8"
      ],
      "metadata": {
        "id": "vik3jtskHLPk"
      }
    },
    {
      "cell_type": "code",
      "source": [
        "#Function that will return the index value of the given input array that adds up to the given target value\n",
        "def fn_return_index(v_input_array, target): #The input arguments for this function are the given array list and the target value\n",
        "        index_map = {} #Decalring a dictionary to hold the key:value pair where in this case is the index:value pair\n",
        "        for index, value in enumerate(v_input_array): #The enumerate function is going to split the input array list into its index:value pair and we have two counter variables that runs through the enumerated index:value pair.\n",
        "            if target - value in index_map:\n",
        "                return [index_map[target - value], index]\n",
        "            index_map[value] = index"
      ],
      "metadata": {
        "id": "eSukCqoyvSzR"
      },
      "execution_count": null,
      "outputs": []
    },
    {
      "cell_type": "code",
      "source": [
        "fn_return_index(v_input_array = [1, 2, 6, 8], target = 10)"
      ],
      "metadata": {
        "colab": {
          "base_uri": "https://localhost:8080/"
        },
        "id": "XgrBm3pZxDfz",
        "outputId": "061006b7-bcbc-4a22-94b1-9874a8e6b6b6"
      },
      "execution_count": null,
      "outputs": [
        {
          "output_type": "execute_result",
          "data": {
            "text/plain": [
              "[1, 3]"
            ]
          },
          "metadata": {},
          "execution_count": 40
        }
      ]
    },
    {
      "cell_type": "markdown",
      "source": [
        "# HD Task Attempt\n",
        "\n",
        "Since the answer to Question 1.7 is returning as odd => 41 --> (2+2+3+5+0+9+3+9+8). Attemting Question 2 Version 1 (2.1 and 2.2)"
      ],
      "metadata": {
        "id": "2cp4yCV64MLt"
      }
    },
    {
      "cell_type": "markdown",
      "source": [
        "# 2.1\n",
        "\n",
        "Whether the three numbers could form a triangle?\n",
        "\n",
        "Whether the three numbers could form the triangle? You need to write code (function) with 3\n",
        "numeric inputs and then check whether the given three numbers could form the triangle.\n",
        "\n",
        "You are given three sets of list and each list contains three numbers, you will need to write a code with functionality of inputting the three numbers from each list and find out the answers for below (three) questions. list1 = [1, 3, 5], list2 = [12, 35, 37], list3 = [2, 2, 2.8]\n",
        "\n",
        "• Define a function to check whether the given three numbers could form the a triangle?\n",
        "\n",
        "• Define a function to check whether the given three numbers could form the right triangle?\n",
        "\n",
        "• Write the code or function to check whether the given three numbers could form the isosceles triangle?\n",
        "\n",
        "One possible solution you may try to first define a function to check whether the three input numbers could meet the triangle rule (The sum of the length of the two sides of a triangleis greater than the length of the third side). Then you need to check whether the length of the side could meet the condition of right triangle and isosceles triangle.\n",
        "\n",
        "Run your code with each list by inputting the numbers and return the results to answer above three questions (you could run your code three times and save the results)."
      ],
      "metadata": {
        "id": "kDkirfc8Abr9"
      }
    },
    {
      "cell_type": "markdown",
      "source": [
        "## Answer 2.1"
      ],
      "metadata": {
        "id": "d5TRF5PxHOIt"
      }
    },
    {
      "cell_type": "markdown",
      "source": [
        "### Method I"
      ],
      "metadata": {
        "id": "ECdrYTiHREoP"
      }
    },
    {
      "cell_type": "code",
      "source": [
        "#One function to check the trianlge formation possibility and the type of triangle.\n",
        "def check_triangle_formation(a, b, c):\n",
        "    if a + b > c and a + c > b and c + b > a: #This is the condition to check if a triangle can be formed. The sum of two sides should be greater than the 3rd side\n",
        "        print(\"A Triangle can be formed with\",[a,b,c])\n",
        "        #Nested Control Statements [ If - Else ] to check the trinagle type\n",
        "        if a**2+b**2==c**2: #Considering a triangle can be formed, the next check is to see if it is a right angled triangle by checking the condition.\n",
        "          print(\"A right angled triangle can be formed with\",[a,b,c])\n",
        "        else:\n",
        "          print(\"A right angled triangle cannot be formed with\",[a,b,c])\n",
        "        #Nested Control Statements [ If - Else ] to check the trinagle type\n",
        "        if a==b or a==c or b==c: #This is the condition to check if any two sides are equal then they form an isoceles triangle.\n",
        "          print(\"An isoceles triangle can be formed with\",[a,b,c])\n",
        "        else:\n",
        "          print(\"An isoceles triangle cannot be formed with\",[a,b,c])\n",
        "    else:\n",
        "        print(\"A Triangle cannot be formed with\",[a,b,c])"
      ],
      "metadata": {
        "id": "isOqpAsKA9Hv"
      },
      "execution_count": 1,
      "outputs": []
    },
    {
      "cell_type": "code",
      "source": [
        "check_triangle_formation(1,3,5)\n",
        "check_triangle_formation(12,35,37)\n",
        "check_triangle_formation(2,2,2.8)"
      ],
      "metadata": {
        "colab": {
          "base_uri": "https://localhost:8080/"
        },
        "id": "RKqu5SHODbv-",
        "outputId": "9c5ad7ff-e823-4b25-e545-7e82a9083470"
      },
      "execution_count": null,
      "outputs": [
        {
          "output_type": "stream",
          "name": "stdout",
          "text": [
            "A Triangle cannot be formed with [1, 3, 5]\n",
            "A Triangle can be formed with [12, 35, 37]\n",
            "A right angled triangle can be formed with [12, 35, 37]\n",
            "An isoceles triangle cannot be formed with [12, 35, 37]\n",
            "A Triangle can be formed with [2, 2, 2.8]\n",
            "A right angled triangle cannot be formed with [2, 2, 2.8]\n",
            "An isoceles triangle can be formed with [2, 2, 2.8]\n"
          ]
        }
      ]
    },
    {
      "cell_type": "markdown",
      "source": [
        "### Method II"
      ],
      "metadata": {
        "id": "pxp6G-bVRLDF"
      }
    },
    {
      "cell_type": "code",
      "source": [
        "# Individual functions\n",
        "# 1 - To check whether a triangle can be formed with the given sides\n",
        "def check_triangle(x,y,z):\n",
        "  if x + y > z and x + z > y and z + y > x:\n",
        "    print(\"A Triangle can be formed with\",[x,y,z])\n",
        "  else:\n",
        "    print(\"Triangle cannot be formed\")"
      ],
      "metadata": {
        "id": "lxzVzLtxEoCr"
      },
      "execution_count": 5,
      "outputs": []
    },
    {
      "cell_type": "code",
      "source": [
        "check_triangle(1,3,5)\n",
        "check_triangle(12,35,37)\n",
        "check_triangle(2,2,2.8)"
      ],
      "metadata": {
        "colab": {
          "base_uri": "https://localhost:8080/"
        },
        "id": "ZF5oF79i-7kt",
        "outputId": "e1f0227a-dff8-43fc-b3ca-31ac5d21bc3a"
      },
      "execution_count": 6,
      "outputs": [
        {
          "output_type": "stream",
          "name": "stdout",
          "text": [
            "Triangle cannot be formed\n",
            "A Triangle can be formed with [12, 35, 37]\n",
            "A Triangle can be formed with [2, 2, 2.8]\n"
          ]
        }
      ]
    },
    {
      "cell_type": "code",
      "source": [
        "# 2 - To check whether a triangle can be a right angled triangle\n",
        "def check_right_triangle(p,q,r):\n",
        "  if p**2 + q**2 == r**2:\n",
        "    print(\"A Right Angled Triangle can be formed with\",[p,q,r])\n",
        "  else:\n",
        "    print(\"A Right Angled Triangle cannot be formed with\",[p,q,r])"
      ],
      "metadata": {
        "id": "oPXbAfotyKtd"
      },
      "execution_count": 7,
      "outputs": []
    },
    {
      "cell_type": "code",
      "source": [
        "check_right_triangle(12,35,37)\n",
        "check_right_triangle(2,2,2.8)"
      ],
      "metadata": {
        "colab": {
          "base_uri": "https://localhost:8080/"
        },
        "id": "MzlcC16Q_JhR",
        "outputId": "3115dd1d-c28d-4f82-c8df-255817a79bbb"
      },
      "execution_count": 8,
      "outputs": [
        {
          "output_type": "stream",
          "name": "stdout",
          "text": [
            "A Right Angled Triangle can be formed with [12, 35, 37]\n",
            "A Right Angled Triangle cannot be formed with [2, 2, 2.8]\n"
          ]
        }
      ]
    },
    {
      "cell_type": "code",
      "source": [
        "# 3 - To check whether a triangle can be an isoceles triangle\n",
        "def check_iso_triangle(e,f,g):\n",
        "  if e == f or e == g or f == g:\n",
        "    print(\"An Isoceles Triangle can be formed with\",[e,f,g])\n",
        "  else:\n",
        "    print(\"An Isoceles Triangle cannot be formed with\",[e,f,g])"
      ],
      "metadata": {
        "id": "3w019wGQ_dsy"
      },
      "execution_count": 12,
      "outputs": []
    },
    {
      "cell_type": "code",
      "source": [
        "check_iso_triangle(12,35,37)\n",
        "check_iso_triangle(2,2,2.8)"
      ],
      "metadata": {
        "colab": {
          "base_uri": "https://localhost:8080/"
        },
        "id": "Mwhki3AC_3ad",
        "outputId": "ae63a5b0-dfc4-446c-a2bb-a250db6069d6"
      },
      "execution_count": 15,
      "outputs": [
        {
          "output_type": "stream",
          "name": "stdout",
          "text": [
            "An Isoceles Triangle cannot be formed with [12, 35, 37]\n",
            "An Isoceles Triangle can be formed with [2, 2, 2.8]\n"
          ]
        }
      ]
    },
    {
      "cell_type": "markdown",
      "source": [
        "### Method III"
      ],
      "metadata": {
        "id": "uVvHDLwPRTrV"
      }
    },
    {
      "cell_type": "code",
      "source": [
        "# Another way by using classes and functions\n",
        "class Triangle:\n",
        "    def __init__(self, a, b, c):\n",
        "      self.a = a\n",
        "      self.b = b\n",
        "      self.c = c\n",
        "      print('(Initialized Triangle Check: %d)' % self.a)\n",
        "\n",
        "    def tell(self):\n",
        "        '''Details of the Sides.'''\n",
        "        print('Side 1: %d Side 2: %d Side 3: %d' % (self.a, self.b, self.c))\n",
        "\n",
        "class Check(Triangle):\n",
        "      '''Checking whether the input sides form a triangle.'''\n",
        "      def __init__(self, a, b, c):\n",
        "        if a + b > c and a + c > b and c + b > a:\n",
        "            print(\"A Triangle can be formed with\",[a,b,c])\n",
        "        else:\n",
        "            print(\"Triangle cannot be formed\")\n",
        "\n",
        "\n",
        "class Right(Triangle):\n",
        "  '''Checking whether the input sides form a triangle.'''\n",
        "  def __init__(self, a, b, c):\n",
        "    if a**2 + b**2 == c**2:\n",
        "        print(\"A Right Angled Triangle can be formed with\",[a,b,c])\n",
        "    else:\n",
        "        print(\"Right Angled Triangle cannot be formed\")\n",
        "\n",
        "\n",
        "class Iso(Triangle):\n",
        "  '''Checking whether the input sides form a triangle.'''\n",
        "  def __init__(self, a, b, c):\n",
        "    if a == b or a == c or b == c:\n",
        "      print(\"An Isoceles  Triangle can be formed with\",[a,b,c])\n",
        "    else:\n",
        "      print(\"An Isoceles Triangle cannot be formed\")\n",
        "\n"
      ],
      "metadata": {
        "id": "HHelSDwhIyxc"
      },
      "execution_count": 48,
      "outputs": []
    },
    {
      "cell_type": "code",
      "source": [
        " Check(2,2,2.8)\n",
        " Right(2,2,2.8)\n",
        " Iso(2,2,2.8)"
      ],
      "metadata": {
        "colab": {
          "base_uri": "https://localhost:8080/"
        },
        "id": "65IaG4SjVXUR",
        "outputId": "145fcabb-5220-4ac5-a62a-2bb0731270d2"
      },
      "execution_count": 31,
      "outputs": [
        {
          "output_type": "stream",
          "name": "stdout",
          "text": [
            "A Triangle can be formed with [2, 2, 2.8]\n",
            "Right Angled Triangle cannot be formed\n",
            "An Isoceles  Triangle can be formed with [2, 2, 2.8]\n"
          ]
        },
        {
          "output_type": "execute_result",
          "data": {
            "text/plain": [
              "<__main__.Iso at 0x7fd5ab0f3700>"
            ]
          },
          "metadata": {},
          "execution_count": 31
        }
      ]
    },
    {
      "cell_type": "code",
      "source": [
        " Check(1,3,5)\n",
        " Right(1,3,5)\n",
        " Iso(1,3,5)"
      ],
      "metadata": {
        "colab": {
          "base_uri": "https://localhost:8080/"
        },
        "id": "7yYCWaTqboQB",
        "outputId": "53c7655f-5ff5-4685-944c-0fc13711e4d3"
      },
      "execution_count": 33,
      "outputs": [
        {
          "output_type": "stream",
          "name": "stdout",
          "text": [
            "Triangle cannot be formed\n",
            "Right Angled Triangle cannot be formed\n",
            "An Isoceles Triangle cannot be formed\n"
          ]
        },
        {
          "output_type": "execute_result",
          "data": {
            "text/plain": [
              "<__main__.Iso at 0x7fd5ab0f35e0>"
            ]
          },
          "metadata": {},
          "execution_count": 33
        }
      ]
    },
    {
      "cell_type": "code",
      "source": [
        "Check(12,35,37)\n",
        "Right(12,35,37)\n",
        "Iso(12,35,37)"
      ],
      "metadata": {
        "colab": {
          "base_uri": "https://localhost:8080/"
        },
        "id": "w4Q9NHTIbwrO",
        "outputId": "79358f52-5791-45af-bb47-27d4ab44a786"
      },
      "execution_count": 35,
      "outputs": [
        {
          "output_type": "stream",
          "name": "stdout",
          "text": [
            "A Triangle can be formed with [12, 35, 37]\n",
            "A Right Angled Triangle can be formed with [12, 35, 37]\n",
            "An Isoceles Triangle cannot be formed\n"
          ]
        },
        {
          "output_type": "execute_result",
          "data": {
            "text/plain": [
              "<__main__.Iso at 0x7fd5ab0f2560>"
            ]
          },
          "metadata": {},
          "execution_count": 35
        }
      ]
    },
    {
      "cell_type": "markdown",
      "source": [
        "### Method IV"
      ],
      "metadata": {
        "id": "9q1YPChHRZWc"
      }
    },
    {
      "cell_type": "code",
      "source": [
        "class Triangle:\n",
        "    '''Triangle Check.'''\n",
        "    def __init__(self, a, b, c):\n",
        "        self.a = a\n",
        "        self.b = b\n",
        "        self.c = c\n",
        "        print('Initialized Triangle Formation Check:')\n",
        "\n",
        "    def tell(self):\n",
        "        '''Tell my details.'''\n",
        "        print('Side 1: %d Side 2: %d Side 3: %d'  % (self.a, self.b, self.c))\n",
        "\n",
        "class Formation(Triangle):\n",
        "    '''Checking if a triangle can be formed first.'''\n",
        "    def __init__(self, a, b, c):\n",
        "        Triangle.__init__(self, a, b, c)\n",
        "        if a + b > c and a + c > b and c + b > a:\n",
        "            print(\"A Triangle can be formed with\",[a,b,c])\n",
        "        else:\n",
        "            print(\"Triangle cannot be formed\")\n",
        "\n",
        "    def tell(self):\n",
        "        Triangle.tell(self)\n",
        "        print('Side 1: %d Side 2: %d Side 3: %d'  % (self.a, self.b, self.c))\n",
        "\n",
        "class Right_Tri(Triangle):\n",
        "    '''Checking if a right triangle can be formed.'''\n",
        "    def __init__(self, a, b, c):\n",
        "        Triangle.__init__(self, a, b, c)\n",
        "        if a**2 + b**2 == c**2:\n",
        "          print(\"A Right Angled Triangle can be formed with\",[a,b,c])\n",
        "        else:\n",
        "          print(\"Right Angled Triangle cannot be formed\")\n",
        "\n",
        "    def tell(self):\n",
        "        Triangle.tell(self)\n",
        "        print('Side 1: %d Side 2: %d Side 3: %d'  % (self.a, self.b, self.c))\n",
        "\n",
        "class Iso_Tri(Triangle):\n",
        "    '''Checking if an isoceles triangle can be formed.'''\n",
        "    def __init__(self, a, b, c):\n",
        "        Triangle.__init__(self, a, b, c)\n",
        "        if a == b or a == c or b == c:\n",
        "          print(\"An Isoceles  Triangle can be formed with\",[a,b,c])\n",
        "        else:\n",
        "          print(\"An Isoceles Triangle cannot be formed\")\n",
        "\n",
        "    def tell(self):\n",
        "        Triangle.tell(self)\n",
        "        print('Side 1: %d Side 2: %d Side 3: %d'  % (self.a, self.b, self.c))\n"
      ],
      "metadata": {
        "id": "uldlfyow0Rnr"
      },
      "execution_count": 55,
      "outputs": []
    },
    {
      "cell_type": "code",
      "source": [
        "t = Formation(1, 3, 5)\n",
        "r = Right_Tri(1, 3, 5)\n",
        "i = Iso_Tri(1, 3, 5)\n",
        "print('\\n')\n",
        "members = [t, r, i]\n",
        "for member in members:\n",
        "    member.tell()"
      ],
      "metadata": {
        "colab": {
          "base_uri": "https://localhost:8080/"
        },
        "id": "LjVS2Sl0-JqQ",
        "outputId": "ad6e3b53-e884-4d04-b34d-95c9a9ea0d4e"
      },
      "execution_count": 56,
      "outputs": [
        {
          "output_type": "stream",
          "name": "stdout",
          "text": [
            "Initialized Triangle Formation Check:\n",
            "Triangle cannot be formed\n",
            "Initialized Triangle Formation Check:\n",
            "Right Angled Triangle cannot be formed\n",
            "Initialized Triangle Formation Check:\n",
            "An Isoceles Triangle cannot be formed\n",
            "\n",
            "\n",
            "Side 1: 1 Side 2: 3 Side 3: 5\n",
            "Side 1: 1 Side 2: 3 Side 3: 5\n",
            "Side 1: 1 Side 2: 3 Side 3: 5\n",
            "Side 1: 1 Side 2: 3 Side 3: 5\n",
            "Side 1: 1 Side 2: 3 Side 3: 5\n",
            "Side 1: 1 Side 2: 3 Side 3: 5\n"
          ]
        }
      ]
    },
    {
      "cell_type": "code",
      "source": [
        "t = Formation(12, 35, 37)\n",
        "r = Right_Tri(12, 35, 37)\n",
        "i = Iso_Tri(12, 35, 37)\n",
        "print('\\n')\n",
        "members = [t, r, i]\n",
        "for member in members:\n",
        "    member.tell()"
      ],
      "metadata": {
        "colab": {
          "base_uri": "https://localhost:8080/"
        },
        "id": "O0lf41I_3MDM",
        "outputId": "f51c6569-8bfe-4d38-9480-0f97522b018f"
      },
      "execution_count": 58,
      "outputs": [
        {
          "output_type": "stream",
          "name": "stdout",
          "text": [
            "Initialized Triangle Formation Check:\n",
            "A Triangle can be formed with [12, 35, 37]\n",
            "Initialized Triangle Formation Check:\n",
            "A Right Angled Triangle can be formed with [12, 35, 37]\n",
            "Initialized Triangle Formation Check:\n",
            "An Isoceles Triangle cannot be formed\n",
            "\n",
            "\n",
            "Side 1: 12 Side 2: 35 Side 3: 37\n",
            "Side 1: 12 Side 2: 35 Side 3: 37\n",
            "Side 1: 12 Side 2: 35 Side 3: 37\n",
            "Side 1: 12 Side 2: 35 Side 3: 37\n",
            "Side 1: 12 Side 2: 35 Side 3: 37\n",
            "Side 1: 12 Side 2: 35 Side 3: 37\n"
          ]
        }
      ]
    },
    {
      "cell_type": "code",
      "source": [
        "t = Formation(2, 2, 2.8)\n",
        "r = Right_Tri(2, 2, 2.8)\n",
        "i = Iso_Tri(2, 2, 2.8)\n",
        "print('\\n')\n",
        "members = [t, r, i]\n",
        "for member in members:\n",
        "    member.tell()"
      ],
      "metadata": {
        "colab": {
          "base_uri": "https://localhost:8080/"
        },
        "id": "Z-lMhtXI-WNJ",
        "outputId": "1a501f49-840a-48fe-9022-b02e46b8198d"
      },
      "execution_count": 59,
      "outputs": [
        {
          "output_type": "stream",
          "name": "stdout",
          "text": [
            "Initialized Triangle Formation Check:\n",
            "A Triangle can be formed with [2, 2, 2.8]\n",
            "Initialized Triangle Formation Check:\n",
            "Right Angled Triangle cannot be formed\n",
            "Initialized Triangle Formation Check:\n",
            "An Isoceles  Triangle can be formed with [2, 2, 2.8]\n",
            "\n",
            "\n",
            "Side 1: 2 Side 2: 2 Side 3: 2\n",
            "Side 1: 2 Side 2: 2 Side 3: 2\n",
            "Side 1: 2 Side 2: 2 Side 3: 2\n",
            "Side 1: 2 Side 2: 2 Side 3: 2\n",
            "Side 1: 2 Side 2: 2 Side 3: 2\n",
            "Side 1: 2 Side 2: 2 Side 3: 2\n"
          ]
        }
      ]
    },
    {
      "cell_type": "markdown",
      "source": [
        "# 2.2\n",
        "\n",
        "The problem for Question 2.2 is how to calculate the area of the triangle. When you find out the list(s) in Question 2.1 which could form the triangle, could you also please calculate their area\n",
        "(round to integer)?\n",
        "\n",
        "There is one method to calculate the area of given shape - Heron’s formula\n",
        "as below:\n",
        "\n",
        "𝐴 = 𝑠(𝑠 − 𝑎)(𝑠 − 𝑏)(𝑠 − 𝑐) (1)\n",
        "\n",
        "where 𝑠 = 𝑎+𝑏+𝑐\n",
        "\n",
        "2\n",
        "You are required to define the function find_area(a,b,c) for this problem, and you will need to run the\n",
        "find_area() and print the results for the list(s) in Question 2.1 which could form the triangle."
      ],
      "metadata": {
        "id": "S6XWLx9QOJbJ"
      }
    },
    {
      "cell_type": "markdown",
      "source": [
        "## Answer 2.2"
      ],
      "metadata": {
        "id": "9p9G3ISnHTBf"
      }
    },
    {
      "cell_type": "markdown",
      "source": [
        "### Method I"
      ],
      "metadata": {
        "id": "NFIKfJ73Rhs-"
      }
    },
    {
      "cell_type": "code",
      "source": [
        "def Herons_Area_Calc(a, b, c):\n",
        "    s = (a+b+c) / 2\n",
        "    return (s*(s-a)*(s-b)*(s-c))**0.5 #alternatively we can import the match function and call the sqrt instead of **0.5\n",
        "\n",
        "\n",
        "def find_area(a,b,c):\n",
        "    Area = Herons_Area_Calc(a, b, c)\n",
        "    print(\"The area of a triangle with sides of\", [a,b,c], 'is', round(Area,2))"
      ],
      "metadata": {
        "id": "fJuRsY6gG29Y"
      },
      "execution_count": null,
      "outputs": []
    },
    {
      "cell_type": "code",
      "source": [
        "#The lists that could form a triangle are [12,35,37] and [2,2,2.8]. Insert\n",
        "find_area(12, 35, 37)\n",
        "find_area(2, 2, 2.8)"
      ],
      "metadata": {
        "colab": {
          "base_uri": "https://localhost:8080/"
        },
        "id": "_LNeM-tdG32_",
        "outputId": "4bf0fee1-b3ae-47a9-ab56-892bf5220a2d"
      },
      "execution_count": null,
      "outputs": [
        {
          "output_type": "stream",
          "name": "stdout",
          "text": [
            "The area of a triangle with sides of [12, 35, 37] is 210.0\n",
            "The area of a triangle with sides of [2, 2, 2.8] is 2.0\n"
          ]
        }
      ]
    },
    {
      "cell_type": "markdown",
      "source": [
        "### Method II"
      ],
      "metadata": {
        "id": "_lEmsZGYRkdR"
      }
    },
    {
      "cell_type": "code",
      "source": [
        "import math\n",
        "\n",
        "def Area(a,b,c):\n",
        "  p=a+b+c\n",
        "  s=(p)/2\n",
        "  A = math.sqrt((s*(s-a)*(s-b)*(s-c)))\n",
        "  return A"
      ],
      "metadata": {
        "id": "KMxZzexuG4RK"
      },
      "execution_count": null,
      "outputs": []
    },
    {
      "cell_type": "code",
      "source": [
        "Area(2,2,2.8)"
      ],
      "metadata": {
        "colab": {
          "base_uri": "https://localhost:8080/"
        },
        "id": "h7Lnu-w2hQT0",
        "outputId": "c26719d6-1fbf-48ff-e68f-6f3d999acf71"
      },
      "execution_count": null,
      "outputs": [
        {
          "output_type": "execute_result",
          "data": {
            "text/plain": [
              "1.9995999599919982"
            ]
          },
          "metadata": {},
          "execution_count": 111
        }
      ]
    },
    {
      "cell_type": "code",
      "source": [
        "Area(12,35,37)"
      ],
      "metadata": {
        "id": "HnvjW2pCCB09",
        "outputId": "63ef67f7-838f-4404-b8f0-c6be1186272e",
        "colab": {
          "base_uri": "https://localhost:8080/"
        }
      },
      "execution_count": null,
      "outputs": [
        {
          "output_type": "execute_result",
          "data": {
            "text/plain": [
              "210.0"
            ]
          },
          "metadata": {},
          "execution_count": 112
        }
      ]
    }
  ],
  "metadata": {
    "colab": {
      "toc_visible": true,
      "provenance": []
    },
    "kernelspec": {
      "display_name": "Python 3",
      "name": "python3"
    },
    "language_info": {
      "name": "python"
    }
  },
  "nbformat": 4,
  "nbformat_minor": 0
}